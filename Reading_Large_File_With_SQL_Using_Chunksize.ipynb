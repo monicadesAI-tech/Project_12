{
 "cells": [
  {
   "cell_type": "code",
   "execution_count": null,
   "metadata": {},
   "outputs": [],
   "source": [
    "# How to Read Very Big Files With SQL and Pandas in Python to solve MemoryError Issue"
   ]
  },
  {
   "cell_type": "code",
   "execution_count": 3,
   "metadata": {},
   "outputs": [],
   "source": [
    "# How to load very big files to python\n",
    "# 1) Create a connector to a database.\n",
    "# 2) Building the database.\n",
    "# 3) Construct the Pandas Dataframe by calling SQL query."
   ]
  },
  {
   "cell_type": "code",
   "execution_count": 4,
   "metadata": {},
   "outputs": [],
   "source": [
    "# Importing Packages and Modules\n",
    "import numpy as np\n",
    "import pandas as pd\n",
    "import sqlite3\n",
    "from sqlalchemy import create_engine"
   ]
  },
  {
   "cell_type": "code",
   "execution_count": 5,
   "metadata": {},
   "outputs": [],
   "source": [
    "# Creating Connector to a database.\n",
    "# The first one is to build a engine that is responsible to create a database (space for future data in reading procedure).\n",
    "\n",
    "csv_database = create_engine('sqlite:///csv_database.db')"
   ]
  },
  {
   "cell_type": "code",
   "execution_count": 13,
   "metadata": {},
   "outputs": [
    {
     "name": "stdout",
     "output_type": "stream",
     "text": [
      "| index: []\n",
      "| index: []\n",
      "| index: []\n",
      "| index: []\n",
      "| index: []\n",
      "| index: []\n",
      "| index: []\n",
      "| index: []\n",
      "| index: []\n",
      "| index: []\n",
      "| index: []\n",
      "| index: []\n",
      "| index: []\n"
     ]
    }
   ],
   "source": [
    "# Building the database by chunking\n",
    "# The second step is to write a loop that perform the reading procedure by bunches \n",
    "# of data which size is defined by chunksize parameter.\n",
    "\n",
    "chunksize = 500\n",
    "i=0\n",
    "j=0\n",
    "\n",
    "file = 'netflix_titles.csv'    # Here you can any 3GB or larger size files\n",
    "\n",
    "for df in pd.read_csv(file,chunksize = chunksize, iterator = True):\n",
    "    df = df.rename(columns = {c: c.replace(' ','') for c in df.columns})\n",
    "    df.index += j\n",
    "    df.to_sql('data_use',csv_database, if_exists = 'append')\n",
    "    j = df.index[-1]+1\n",
    "    \n",
    "    print('| index: []'.format(j))\n",
    "    "
   ]
  },
  {
   "cell_type": "code",
   "execution_count": 27,
   "metadata": {},
   "outputs": [],
   "source": [
    "# Construct the dataframe for research use from the database\n",
    "# And finally construct the Pandas dataframe by write a SQL query to the database we just built. \n",
    "# That will create a easy readable Pandas dataframe.\n",
    "\n",
    "\n",
    "df = pd.read_sql_query('select * from data_use where type = \"movie\" and release_year = 2017 or listed_in = \"Stand-Up Comedy\"',csv_database)\n"
   ]
  },
  {
   "cell_type": "code",
   "execution_count": 28,
   "metadata": {},
   "outputs": [
    {
     "data": {
      "text/plain": [
       "Index(['index', 'show_id', 'type', 'title', 'director', 'cast', 'country',\n",
       "       'date_added', 'release_year', 'rating', 'duration', 'listed_in',\n",
       "       'description'],\n",
       "      dtype='object')"
      ]
     },
     "execution_count": 28,
     "metadata": {},
     "output_type": "execute_result"
    }
   ],
   "source": [
    "df.columns"
   ]
  },
  {
   "cell_type": "code",
   "execution_count": 29,
   "metadata": {},
   "outputs": [
    {
     "data": {
      "text/html": [
       "<div>\n",
       "<style scoped>\n",
       "    .dataframe tbody tr th:only-of-type {\n",
       "        vertical-align: middle;\n",
       "    }\n",
       "\n",
       "    .dataframe tbody tr th {\n",
       "        vertical-align: top;\n",
       "    }\n",
       "\n",
       "    .dataframe thead th {\n",
       "        text-align: right;\n",
       "    }\n",
       "</style>\n",
       "<table border=\"1\" class=\"dataframe\">\n",
       "  <thead>\n",
       "    <tr style=\"text-align: right;\">\n",
       "      <th></th>\n",
       "      <th>index</th>\n",
       "      <th>show_id</th>\n",
       "      <th>type</th>\n",
       "      <th>title</th>\n",
       "      <th>director</th>\n",
       "      <th>cast</th>\n",
       "      <th>country</th>\n",
       "      <th>date_added</th>\n",
       "      <th>release_year</th>\n",
       "      <th>rating</th>\n",
       "      <th>duration</th>\n",
       "      <th>listed_in</th>\n",
       "      <th>description</th>\n",
       "    </tr>\n",
       "  </thead>\n",
       "  <tbody>\n",
       "    <tr>\n",
       "      <th>0</th>\n",
       "      <td>1</td>\n",
       "      <td>80117401</td>\n",
       "      <td>Movie</td>\n",
       "      <td>Jandino: Whatever it Takes</td>\n",
       "      <td>None</td>\n",
       "      <td>Jandino Asporaat</td>\n",
       "      <td>United Kingdom</td>\n",
       "      <td>September 9, 2016</td>\n",
       "      <td>2016</td>\n",
       "      <td>TV-MA</td>\n",
       "      <td>94 min</td>\n",
       "      <td>Stand-Up Comedy</td>\n",
       "      <td>Jandino Asporaat riffs on the challenges of ra...</td>\n",
       "    </tr>\n",
       "    <tr>\n",
       "      <th>1</th>\n",
       "      <td>7</td>\n",
       "      <td>80164077</td>\n",
       "      <td>Movie</td>\n",
       "      <td>Fabrizio Copano: Solo pienso en mi</td>\n",
       "      <td>Rodrigo Toro, Francisco Schultz</td>\n",
       "      <td>Fabrizio Copano</td>\n",
       "      <td>Chile</td>\n",
       "      <td>September 8, 2017</td>\n",
       "      <td>2017</td>\n",
       "      <td>TV-MA</td>\n",
       "      <td>60 min</td>\n",
       "      <td>Stand-Up Comedy</td>\n",
       "      <td>Fabrizio Copano takes audience participation t...</td>\n",
       "    </tr>\n",
       "    <tr>\n",
       "      <th>2</th>\n",
       "      <td>10</td>\n",
       "      <td>80169755</td>\n",
       "      <td>Movie</td>\n",
       "      <td>Joaquín Reyes: Una y no más</td>\n",
       "      <td>José Miguel Contreras</td>\n",
       "      <td>Joaquín Reyes</td>\n",
       "      <td>None</td>\n",
       "      <td>September 8, 2017</td>\n",
       "      <td>2017</td>\n",
       "      <td>TV-MA</td>\n",
       "      <td>78 min</td>\n",
       "      <td>Stand-Up Comedy</td>\n",
       "      <td>Comedian and celebrity impersonator Joaquín Re...</td>\n",
       "    </tr>\n",
       "    <tr>\n",
       "      <th>3</th>\n",
       "      <td>53</td>\n",
       "      <td>80177405</td>\n",
       "      <td>Movie</td>\n",
       "      <td>Marc Maron: Too Real</td>\n",
       "      <td>Lynn Shelton</td>\n",
       "      <td>Marc Maron</td>\n",
       "      <td>United States</td>\n",
       "      <td>September 5, 2017</td>\n",
       "      <td>2017</td>\n",
       "      <td>TV-MA</td>\n",
       "      <td>70 min</td>\n",
       "      <td>Stand-Up Comedy</td>\n",
       "      <td>Battle-scarred stand-up comedian Marc Maron un...</td>\n",
       "    </tr>\n",
       "    <tr>\n",
       "      <th>4</th>\n",
       "      <td>62</td>\n",
       "      <td>81054495</td>\n",
       "      <td>Movie</td>\n",
       "      <td>Mo Gilligan: Momentum</td>\n",
       "      <td>Chris Howe</td>\n",
       "      <td>Mo Gilligan</td>\n",
       "      <td>United Kingdom</td>\n",
       "      <td>September 30, 2019</td>\n",
       "      <td>2019</td>\n",
       "      <td>TV-MA</td>\n",
       "      <td>64 min</td>\n",
       "      <td>Stand-Up Comedy</td>\n",
       "      <td>Comedian Mo Gilligan blends smooth moves and s...</td>\n",
       "    </tr>\n",
       "  </tbody>\n",
       "</table>\n",
       "</div>"
      ],
      "text/plain": [
       "   index   show_id   type                               title  \\\n",
       "0      1  80117401  Movie          Jandino: Whatever it Takes   \n",
       "1      7  80164077  Movie  Fabrizio Copano: Solo pienso en mi   \n",
       "2     10  80169755  Movie         Joaquín Reyes: Una y no más   \n",
       "3     53  80177405  Movie                Marc Maron: Too Real   \n",
       "4     62  81054495  Movie               Mo Gilligan: Momentum   \n",
       "\n",
       "                          director              cast         country  \\\n",
       "0                             None  Jandino Asporaat  United Kingdom   \n",
       "1  Rodrigo Toro, Francisco Schultz   Fabrizio Copano           Chile   \n",
       "2            José Miguel Contreras     Joaquín Reyes            None   \n",
       "3                     Lynn Shelton        Marc Maron   United States   \n",
       "4                       Chris Howe       Mo Gilligan  United Kingdom   \n",
       "\n",
       "           date_added  release_year rating duration        listed_in  \\\n",
       "0   September 9, 2016          2016  TV-MA   94 min  Stand-Up Comedy   \n",
       "1   September 8, 2017          2017  TV-MA   60 min  Stand-Up Comedy   \n",
       "2   September 8, 2017          2017  TV-MA   78 min  Stand-Up Comedy   \n",
       "3   September 5, 2017          2017  TV-MA   70 min  Stand-Up Comedy   \n",
       "4  September 30, 2019          2019  TV-MA   64 min  Stand-Up Comedy   \n",
       "\n",
       "                                         description  \n",
       "0  Jandino Asporaat riffs on the challenges of ra...  \n",
       "1  Fabrizio Copano takes audience participation t...  \n",
       "2  Comedian and celebrity impersonator Joaquín Re...  \n",
       "3  Battle-scarred stand-up comedian Marc Maron un...  \n",
       "4  Comedian Mo Gilligan blends smooth moves and s...  "
      ]
     },
     "execution_count": 29,
     "metadata": {},
     "output_type": "execute_result"
    }
   ],
   "source": [
    "df.head()"
   ]
  },
  {
   "cell_type": "code",
   "execution_count": null,
   "metadata": {},
   "outputs": [],
   "source": []
  },
  {
   "cell_type": "code",
   "execution_count": null,
   "metadata": {},
   "outputs": [],
   "source": []
  }
 ],
 "metadata": {
  "kernelspec": {
   "display_name": "Python 3",
   "language": "python",
   "name": "python3"
  },
  "language_info": {
   "codemirror_mode": {
    "name": "ipython",
    "version": 3
   },
   "file_extension": ".py",
   "mimetype": "text/x-python",
   "name": "python",
   "nbconvert_exporter": "python",
   "pygments_lexer": "ipython3",
   "version": "3.8.3"
  }
 },
 "nbformat": 4,
 "nbformat_minor": 4
}
